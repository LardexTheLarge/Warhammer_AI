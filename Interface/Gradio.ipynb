{
 "cells": [
  {
   "cell_type": "code",
   "execution_count": null,
   "metadata": {},
   "outputs": [],
   "source": [
    "import pickle\n",
    "\n",
    "# Load the model from the file\n",
    "with open('nlp_model.pkl', 'rb') as model_file:\n",
    "    loaded_model = pickle.load(model_file)\n",
    "\n",
    "# Load the TF-IDF vectorizer from the file\n",
    "with open('tfidf_vectorizer.pkl', 'rb') as vectorizer_file:\n",
    "    loaded_vectorizer = pickle.load(vectorizer_file)"
   ]
  },
  {
   "cell_type": "code",
   "execution_count": null,
   "metadata": {},
   "outputs": [],
   "source": [
    "import nltk\n",
    "from nltk.corpus import stopwords\n",
    "from nltk.tokenize import word_tokenize\n",
    "from nltk.stem import PorterStemmer\n",
    "\n",
    "nltk.download('punkt')\n",
    "nltk.download('stopwords')\n",
    "\n",
    "def preprocess_text(text):\n",
    "    # Convert to lowercase\n",
    "    text = text.lower()\n",
    "    # Tokenize the text\n",
    "    tokens = word_tokenize(text)\n",
    "    # Remove stopwords\n",
    "    tokens = [word for word in tokens if word not in stopwords.words('english')]\n",
    "    # Stem the words\n",
    "    stemmer = PorterStemmer()\n",
    "    tokens = [stemmer.stem(word) for word in tokens]\n",
    "    return ' '.join(tokens)"
   ]
  },
  {
   "cell_type": "code",
   "execution_count": null,
   "metadata": {},
   "outputs": [],
   "source": [
    "import gradio as gr\n",
    "\n",
    "def classify_trait_effect(text):\n",
    "    # Preprocess the input text\n",
    "    preprocessed_text = preprocess_text(text)\n",
    "    \n",
    "    # Transform the text using the loaded TF-IDF vectorizer\n",
    "    transformed_text = loaded_vectorizer.transform([preprocessed_text])\n",
    "    \n",
    "    # Make a prediction using the loaded model\n",
    "    prediction = loaded_model.predict(transformed_text)\n",
    "    \n",
    "    # Map the prediction to the corresponding label\n",
    "    label_map = {2: 'Strong', 1: 'Balanced', 0: 'Weak'}\n",
    "    return label_map[prediction[0]]\n",
    "\n",
    "# Create the Gradio interface\n",
    "interface = gr.Interface(fn=classify_trait_effect, \n",
    "                         inputs=\"text\", \n",
    "                         outputs=\"text\",\n",
    "                         title=\"Total War: Warhammer 3 Trait Classifier\",\n",
    "                         description=\"Enter the effect description of a trait to classify it as Strong, Balanced, or Weak.\")\n",
    "\n",
    "# Launch the interface\n",
    "interface.launch()"
   ]
  }
 ],
 "metadata": {
  "language_info": {
   "name": "python"
  }
 },
 "nbformat": 4,
 "nbformat_minor": 2
}
