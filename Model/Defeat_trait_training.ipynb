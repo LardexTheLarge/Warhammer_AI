{
 "cells": [
  {
   "cell_type": "code",
   "execution_count": 16,
   "metadata": {},
   "outputs": [],
   "source": [
    "import pandas as pd\n",
    "from sklearn.model_selection import train_test_split\n",
    "from sklearn.ensemble import RandomForestClassifier\n",
    "from sklearn.feature_extraction.text import TfidfVectorizer\n",
    "from sklearn.metrics import classification_report\n",
    "\n",
    "# Adjust display options\n",
    "pd.set_option('display.max_rows', None)  # Show all rows\n",
    "pd.set_option('display.max_columns', None)  # Show all columns\n",
    "pd.set_option('display.max_colwidth', None)  # Show full column width"
   ]
  },
  {
   "cell_type": "code",
   "execution_count": null,
   "metadata": {},
   "outputs": [],
   "source": [
    "import pandas as pd\n",
    "\n",
    "# Load your data\n",
    "df = pd.read_csv('your_dataset.csv')\n",
    "\n",
    "# Define a simple function for annotation\n",
    "def annotate_effect(effect_text):\n",
    "    if 'increase' in effect_text or 'boost' in effect_text:\n",
    "        return 'positive' 'decrease' in effect_text or 'reduce' in effect_text\n",
    "    \n",
    "        return 'negative'\n",
    "    \n",
    "        return 'neutral' # Apply the annotation function to the 'Effect' column\n",
    "    \n",
    "df['Effect_Label'] = df['Effect'].apply(annotate_effect)\n",
    "\n",
    "# Save the annotated data\n",
    "df.to_csv('annotated_dataset.csv', index=False)\n",
    "\n",
    "print(df[['Effect', 'Effect_Label']].head())"
   ]
  },
  {
   "cell_type": "code",
   "execution_count": 19,
   "metadata": {},
   "outputs": [
    {
     "data": {
      "text/plain": [
       "25                                                                                 Attribute: Expert Charge Defence  Melee defence: +3 (Lord's army)\n",
       "26                                                                                            Magic item drop chance: +10%  Armour: +5 (Lord's army)\n",
       "27                                                                                            Winds of Magic cost: -20% for all spells (Lord's army)\n",
       "28                                                                                                           Armour-piercing damage: +20 Armour: +10\n",
       "29                                                             Ambush Success Chance: +20% ( Lord's army) Ambush Defence Chance: +20% ( Lord's army)\n",
       "30                                                                                                                          Physical resistance: 10%\n",
       "31                                              Diplomatic relations: +10 with High Elves  Attribute: Causes Terror when fighting against Greenskins\n",
       "32                                                                                                                             Spell resistance: 30%\n",
       "33                                                                     Melee attack: +2 ( Lord's army) Recruit rank: +1 for all units ( Lord's army)\n",
       "34                                                                            Winds of Magicpower reserve change: +10% when increasing (Lord's army)\n",
       "35                                                             Hero action cost: -15% (local region) Hero action success chance: +10% (local region)\n",
       "36    Control +4 (local province)  Chance of Winds of Magic increasing in strength when changing: +5% (local province)  Growth: +10 (local province)\n",
       "37                                                                                        Missile resistance: 10% Attribute: Charge Defence vs Large\n",
       "38                                                                                                          Bonus vs. Large: +8 Fire resistance: 25%\n",
       "39                                                                                 Charge bonus: +5 (Lord's army) Weapon strength: +8% (Lord's army)\n",
       "40                                                                  Enables frostbite attacks  Attribute: Causes Terror when fighting against Kislev\n",
       "41                                                                       Leadership: +6 when in own territory (Lord's army)  Enables flaming attacks\n",
       "42                                                 Leadership: +8 when fighting against Warriors of Chaos, Daemons of Chaos and Norsca (Lord's army)\n",
       "43      Targeting range: +10% for spells  Winds of Magic power reserve change: +5% when increasing (Lord's army)  Spell resistance: 5% (Lord's army)\n",
       "44                                                                                              Public order: +2 (local province) Melee defence: +10\n",
       "45                                                                                                                        Leadership aura size: +25%\n",
       "46                                                               Casualties captured post-battle: +15% ( Lord's army) Untainted: +3 (Local province)\n",
       "47                                                                                        Campaign movement range: +10% Campaign line of sight: +10%\n",
       "48                                                                                                           Bonus vs. Large: +10 Melee defense: +10\n",
       "49                                                                                   Leadership: +4 ( Lord's army)  Attribute: Expert Charge Defense\n",
       "Name: Effect, dtype: object"
      ]
     },
     "execution_count": 19,
     "metadata": {},
     "output_type": "execute_result"
    }
   ],
   "source": [
    "df = pd.read_excel('../Data/legendary_lord_defeat_traits.xlsx')\n",
    "\n",
    "df['Effect'][25:50]"
   ]
  }
 ],
 "metadata": {
  "kernelspec": {
   "display_name": "base",
   "language": "python",
   "name": "python3"
  },
  "language_info": {
   "codemirror_mode": {
    "name": "ipython",
    "version": 3
   },
   "file_extension": ".py",
   "mimetype": "text/x-python",
   "name": "python",
   "nbconvert_exporter": "python",
   "pygments_lexer": "ipython3",
   "version": "3.11.5"
  }
 },
 "nbformat": 4,
 "nbformat_minor": 2
}
